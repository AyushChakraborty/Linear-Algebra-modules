{
 "metadata": {
  "language_info": {
   "codemirror_mode": {
    "name": "ipython",
    "version": 3
   },
   "file_extension": ".py",
   "mimetype": "text/x-python",
   "name": "python",
   "nbconvert_exporter": "python",
   "pygments_lexer": "ipython3",
   "version": "3.8.5-final"
  },
  "orig_nbformat": 2,
  "kernelspec": {
   "name": "python3",
   "display_name": "Python 3",
   "language": "python"
  }
 },
 "nbformat": 4,
 "nbformat_minor": 2,
 "cells": [
  {
   "cell_type": "code",
   "execution_count": 1,
   "metadata": {},
   "outputs": [],
   "source": [
    "from typing import List\n",
    "import math\n",
    " \n",
    "Vector = List[float]\n",
    "Matrix = List[List[float]]"
   ]
  },
  {
   "cell_type": "code",
   "execution_count": 2,
   "metadata": {},
   "outputs": [],
   "source": [
    "#vector addition\n",
    "\n",
    "def v_addition(v: Vector, w: Vector) -> Vector:\n",
    "    if len(v) == len(w):\n",
    "        return[v_i + w_i for v_i, w_i in zip(v, w)]\n",
    "    else:\n",
    "        return (f\"please make sure your vectors are of same dimensionality, v is of {len(v)} dimensions and w is of {len(w)} dimensions\")"
   ]
  },
  {
   "cell_type": "code",
   "execution_count": 3,
   "metadata": {},
   "outputs": [],
   "source": [
    "#vector subtraction\n",
    "\n",
    "def v_subtraction(v: Vector, w: Vector) -> Vector:\n",
    "    if len(v) == len(w):\n",
    "        return[v_i - w_i for v_i, w_i in zip(v, w)]\n",
    "    else:\n",
    "        return (f\"please make sure your vectors are of same dimensionality, v is of {len(v)} dimensions and w is of {len(w)} dimensions\")"
   ]
  },
  {
   "cell_type": "code",
   "execution_count": 4,
   "metadata": {},
   "outputs": [],
   "source": [
    "#scalar multiplication\n",
    "\n",
    "def s_multiplication(s: float, v: Vector) -> Vector:\n",
    "    return[v_i * s for v_i in v]"
   ]
  },
  {
   "cell_type": "code",
   "execution_count": 5,
   "metadata": {},
   "outputs": [
    {
     "output_type": "execute_result",
     "data": {
      "text/plain": [
       "[-1.286, 1.532]"
      ]
     },
     "metadata": {},
     "execution_count": 5
    }
   ],
   "source": [
    "# vector coordinates from its angle and magnitude\n",
    "\n",
    "def coord_angle(theta: float, magnitude: float) -> Vector:\n",
    "    return [round((math.cos(math.radians(theta)) * magnitude), ndigits=3), round((math.sin(math.radians(theta)) * magnitude), ndigits=3)]\n",
    "\n",
    "coord_angle(130, 2)"
   ]
  },
  {
   "cell_type": "code",
   "execution_count": 6,
   "metadata": {},
   "outputs": [
    {
     "output_type": "execute_result",
     "data": {
      "text/plain": [
       "[0.7071067811865475, 0.7071067811865475]"
      ]
     },
     "metadata": {},
     "execution_count": 6
    }
   ],
   "source": [
    "# the unit vector of a vector\n",
    "\n",
    "def unit_vec(v: Vector) -> Vector:\n",
    "    magnitude = 0\n",
    "    unit_vec = []\n",
    "    for i in v:\n",
    "        magnitude += i ** 2\n",
    "    magnitude = math.sqrt(magnitude)\n",
    "    for j in v:\n",
    "        unit_vec.append(j/magnitude)\n",
    "\n",
    "    return unit_vec\n",
    "    \n",
    "unit_vec([4, 4])"
   ]
  },
  {
   "cell_type": "code",
   "execution_count": 7,
   "metadata": {},
   "outputs": [],
   "source": [
    "#matrix-vector muliplication(linear transformation)  #2D\n",
    "\n",
    "def m_vector_mul_2D(m: Matrix, v: Vector) -> Vector:\n",
    "    if len(m) == 2 and len(v) == 2:\n",
    "        scaled_i = [m_i[0] * v[0] for m_i in m]\n",
    "        scaled_j = [m_j[1] * v[1] for m_j in m]\n",
    "        return v_addition(scaled_i, scaled_j)\n",
    "    else:\n",
    "        return (\"please make sure your matrix is of rank 2 or your vector is of 2D\")\n",
    "    "
   ]
  },
  {
   "cell_type": "code",
   "execution_count": 8,
   "metadata": {},
   "outputs": [],
   "source": [
    "#matrix-vector muliplication(linear transformation)  #3D\n",
    "\n",
    "def m_vector_mul_3D(m: Matrix, v: Vector) -> Vector:\n",
    "    if len(m) == 3 and len(v) == 3:\n",
    "        scaled_i = [m_i[0] * v[0] for m_i in m]\n",
    "        scaled_j = [m_j[1] * v[1] for m_j in m]\n",
    "        scaled_k = [m_k[2] * v[2] for m_k in m]\n",
    "        return v_addition(v_addition(scaled_i, scaled_j), scaled_k)\n",
    "    else:\n",
    "        print(\"please make sure your matrix is of rank 3 or your vector is of 3D\")"
   ]
  },
  {
   "cell_type": "code",
   "execution_count": 9,
   "metadata": {},
   "outputs": [
    {
     "output_type": "execute_result",
     "data": {
      "text/plain": [
       "3"
      ]
     },
     "metadata": {},
     "execution_count": 9
    }
   ],
   "source": [
    "#determinant\n",
    "\n",
    "def det(m: Matrix) -> float:\n",
    "    if len(m) == 2:\n",
    "        return ((m[0][0]*m[1][1]) - (m[0][1]*m[1][0]))\n",
    "\n",
    "det([[2, 1], \n",
    "    [1, 2]])"
   ]
  },
  {
   "cell_type": "code",
   "execution_count": 10,
   "metadata": {},
   "outputs": [
    {
     "output_type": "execute_result",
     "data": {
      "text/plain": [
       "'No, they are not linearly dependent'"
      ]
     },
     "metadata": {},
     "execution_count": 10
    }
   ],
   "source": [
    "#linear dependency\n",
    "\n",
    "def lin_dep(v: Vector, w: Vector) -> Vector:\n",
    "    if v == [w[0] * v[0], w[1] * v[0]]:\n",
    "        return (f\"Yes, w:{w} is linearly dependent on v:{v}\")\n",
    "    elif w == [v[0] * w[0], v[1] * w[0]]:\n",
    "        return (f\"Yes, v:{v} is linearly dependent on w:{w}\")\n",
    "    else:\n",
    "        return (\"No, they are not linearly dependent\")\n",
    "        \n",
    "lin_dep([1, 2], [2, 2])"
   ]
  },
  {
   "cell_type": "code",
   "execution_count": 11,
   "metadata": {},
   "outputs": [
    {
     "output_type": "execute_result",
     "data": {
      "text/plain": [
       "3"
      ]
     },
     "metadata": {},
     "execution_count": 11
    }
   ],
   "source": [
    "# dot product\n",
    "\n",
    "def dot_product(v: Vector, w : Vector) -> Vector:\n",
    "    dot = 0\n",
    "    for i in range(len(v)):\n",
    "        for j in range(len(w)):\n",
    "            if i == j:\n",
    "                dot += (v[i] * w[j])\n",
    "            else:\n",
    "                breakpoint\n",
    "    return dot\n",
    "\n",
    "dot_product([1, 2], [1, 1])"
   ]
  }
 ]
}